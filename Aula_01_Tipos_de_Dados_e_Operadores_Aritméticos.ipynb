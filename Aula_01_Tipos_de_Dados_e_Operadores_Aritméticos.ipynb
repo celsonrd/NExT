{
  "nbformat": 4,
  "nbformat_minor": 0,
  "metadata": {
    "colab": {
      "name": "Copy of [F] Aula 01 - Tipos de Dados e Operadores Aritméticos.ipynb",
      "provenance": [],
      "collapsed_sections": [
        "WHLD7iQHzhc9",
        "WsXf_ireWQZd"
      ],
      "include_colab_link": true
    },
    "kernelspec": {
      "name": "python3",
      "display_name": "Python 3"
    }
  },
  "cells": [
    {
      "cell_type": "markdown",
      "metadata": {
        "id": "view-in-github",
        "colab_type": "text"
      },
      "source": [
        "<a href=\"https://colab.research.google.com/github/celsonrd/NExT/blob/main/Aula_01_Tipos_de_Dados_e_Operadores_Aritm%C3%A9ticos.ipynb\" target=\"_parent\"><img src=\"https://colab.research.google.com/assets/colab-badge.svg\" alt=\"Open In Colab\"/></a>"
      ]
    },
    {
      "cell_type": "markdown",
      "metadata": {
        "id": "9ujEVvoCTM6p"
      },
      "source": [
        "<img src=\"https://www.cesar.school/wp-content/uploads/2019/09/marca_cesar_school.png\" alt=\"drawing\" width=\"200\"/>\n",
        "\n",
        "# Python - **Aula 01**\n",
        "\n",
        "---\n",
        "\n",
        "- Entender conceitos básicos sobre programação;\n",
        "- Conhecer a linguagem Python;\n",
        "- Criar seu primeiro programa em Python;"
      ]
    },
    {
      "cell_type": "markdown",
      "metadata": {
        "id": "L1rO4J92bWIu"
      },
      "source": [
        "#Compreendendo as variáveis\n",
        "\n",
        "Em termos técnicos, uma variável atribui um local de armazenamento a um valor que está vinculado a um nome ou identificador simbólico. O nome da variável é usado para fazer referência a esse valor armazenado em um programa de computador."
      ]
    },
    {
      "cell_type": "code",
      "metadata": {
        "id": "gbAP6hlEbYeI",
        "colab": {
          "base_uri": "https://localhost:8080/"
        },
        "outputId": "636c7cac-5ce0-41a0-dfc4-54663d18d660"
      },
      "source": [
        "my_int = 103204934813\n",
        "age = 28\n"
      ],
      "execution_count": 8,
      "outputs": [
        {
          "output_type": "stream",
          "name": "stdout",
          "text": [
            "28\n"
          ]
        }
      ]
    },
    {
      "cell_type": "markdown",
      "source": [
        "# New Section"
      ],
      "metadata": {
        "id": "RwzI0oZV44Lz"
      }
    },
    {
      "cell_type": "markdown",
      "metadata": {
        "id": "AVxtUEgYxRio"
      },
      "source": [
        "*   o nome da variável `my_int`\n",
        "*   o operador de atribuição, também conhecido como sinal de igual `=`\n",
        "*   o valor que está sendo vinculado ao nome da variável `103204934813`"
      ]
    },
    {
      "cell_type": "markdown",
      "metadata": {
        "id": "AFQKUYj3c1It"
      },
      "source": [
        "## Regras para criação de nomes de variáveis:\n",
        "\n",
        "- Não pode começar com número;\n",
        "- Não pode haver espaço (use `_`);\n",
        "- Não pode haver caracteres especiais: `\" ' , < > | / \\ ( ) @ ! # $ % ^ & * ~ - +`\n",
        "\n",
        "##Reatribuindo Variáveis"
      ]
    },
    {
      "cell_type": "code",
      "metadata": {
        "id": "S3sVtJ7aucvi"
      },
      "source": [
        "age = 30"
      ],
      "execution_count": 43,
      "outputs": []
    },
    {
      "cell_type": "markdown",
      "source": [
        "# New Section"
      ],
      "metadata": {
        "id": "gyO6dZPlHrnd"
      }
    },
    {
      "cell_type": "markdown",
      "metadata": {
        "id": "UUnLyISHNT2K"
      },
      "source": [
        "##Atribuição múltipla\n",
        "\n",
        "Com Python, você pode atribuir um único valor a várias variáveis ​​ao mesmo tempo. Isso permite inicializar várias variáveis ​​de uma vez, que você mesmo pode reatribuir posteriormente no programa ou por meio da entrada do usuário."
      ]
    },
    {
      "cell_type": "code",
      "metadata": {
        "id": "HtUBkYLeNbgz"
      },
      "source": [
        ""
      ],
      "execution_count": null,
      "outputs": []
    },
    {
      "cell_type": "markdown",
      "metadata": {
        "id": "WHLD7iQHzhc9"
      },
      "source": [
        "\n",
        "#Criação e impressão de strings\n",
        "\n",
        "Strings existem entre aspas simples `'` ou duplas `\"` em Python, portanto, para criar uma string, coloque uma sequência de caracteres em um ou outro."
      ]
    },
    {
      "cell_type": "code",
      "metadata": {
        "id": "pT8v2fX3T0P_"
      },
      "source": [
        "'Esta é uma string entre aspas simples.'\n",
        "\"Esta é uma string entre aspas duplas.\""
      ],
      "execution_count": null,
      "outputs": []
    },
    {
      "cell_type": "markdown",
      "metadata": {
        "id": "koA9l9SLvGgv"
      },
      "source": [
        "Podemos imprimir strings simplesmente chamando a função `print()`"
      ]
    },
    {
      "cell_type": "code",
      "metadata": {
        "id": "Q2e1z7ECvOhm"
      },
      "source": [
        "# Print em Python\n"
      ],
      "execution_count": null,
      "outputs": []
    },
    {
      "cell_type": "markdown",
      "metadata": {
        "id": "FfEWOwmhVLhE"
      },
      "source": [
        "##Sintaxe do comentário\n",
        "Os comentários em Python começam com uma marca de hash `#` e um caractere de espaço em branco e continuam até o final da linha.\n",
        "\n",
        "Geralmente, os comentários serão semelhantes a este:"
      ]
    },
    {
      "cell_type": "code",
      "metadata": {
        "id": "I8hKONOyVQOw"
      },
      "source": [
        "# comentário de linha\n",
        "'''comentário de bloco'''"
      ],
      "execution_count": null,
      "outputs": []
    },
    {
      "cell_type": "markdown",
      "metadata": {
        "id": "W7GPfOkUwNgg"
      },
      "source": [
        "##Comentários Inline\n",
        "Os comentários Iinline ocorrem na mesma linha de uma instrução, seguindo o próprio código.\n",
        "\n",
        "Geralmente, os comentários inline são assim:"
      ]
    },
    {
      "cell_type": "code",
      "metadata": {
        "id": "9BlI5KrMwkQ1"
      },
      "source": [
        "x = 8"
      ],
      "execution_count": null,
      "outputs": []
    },
    {
      "cell_type": "markdown",
      "metadata": {
        "id": "WsXf_ireWQZd"
      },
      "source": [
        "# Tipos de dados\n",
        "\n",
        "## Numéricos\n",
        "- `int` - Inteiros\n",
        "- `float` - Pontos Flutuantes\n",
        "\n",
        "## Texto\n",
        "- `str` - String\n",
        "\n",
        "## Booleano\n",
        "- `bool` - `True` ou `False`\n",
        "\n",
        "##Listas\n",
        "- `list` - [ ]\n",
        "\n",
        "##Tuplas\n",
        "- `tuples` - ( )\n",
        "\n",
        "##Dicionários\n",
        "- `dictionary` - { }\n",
        "\n",
        "> Função `type()`"
      ]
    },
    {
      "cell_type": "code",
      "metadata": {
        "id": "LrgPw5AZWYBY"
      },
      "source": [
        ""
      ],
      "execution_count": null,
      "outputs": []
    },
    {
      "cell_type": "markdown",
      "metadata": {
        "id": "qf0JgZfioSeU"
      },
      "source": [
        "# ENTRADA DE DADOS\n",
        "Entrada de Dados refere-se a entrada de dados do mundo externo para o meio digital.\n",
        "\n",
        "Sintaxe da função input()\n",
        "\n",
        "```variável = input(mensagem opcional)```\n"
      ]
    },
    {
      "cell_type": "code",
      "metadata": {
        "id": "0Ac7eUAxoaJB"
      },
      "source": [
        ""
      ],
      "execution_count": null,
      "outputs": []
    },
    {
      "cell_type": "markdown",
      "metadata": {
        "id": "gJStn9uApEa4"
      },
      "source": [
        "#Funções para conversão de tipo\n",
        "\n",
        "Algumas vezes é necessário converter valores de um tipo para outro. As funções int, float e str tentarão converter seus argumentos para os tipos int, float e str, respectivamente. Nós chamamos elas de funções para conversão de tipos."
      ]
    },
    {
      "cell_type": "markdown",
      "metadata": {
        "id": "WLn0pnTqnBh3"
      },
      "source": [
        "##Convertendo os tipos de número"
      ]
    },
    {
      "cell_type": "code",
      "metadata": {
        "id": "ZCEYln4WsTL5"
      },
      "source": [
        "# int → float\n",
        "\n",
        "\n",
        "# float → int\n",
        "\n",
        "\n",
        "# bool → int\n",
        "\n",
        "\n",
        "# str → int\n",
        "\n",
        "\n",
        "# str → float\n",
        "\n",
        "\n",
        "# str → bool\n",
        "\n",
        "\n",
        "# int → str\n",
        "\n",
        "\n",
        "# float → str\n",
        "\n",
        "\n",
        "# bool → str\n"
      ],
      "execution_count": null,
      "outputs": []
    },
    {
      "cell_type": "markdown",
      "metadata": {
        "id": "unA7FMpPsp2q"
      },
      "source": [
        "##Convertendo com input"
      ]
    },
    {
      "cell_type": "code",
      "metadata": {
        "id": "OSKDPD4_s0so"
      },
      "source": [
        "# Transformando um input em número\n",
        "\n"
      ],
      "execution_count": null,
      "outputs": []
    },
    {
      "cell_type": "markdown",
      "metadata": {
        "id": "6fOqcWCyYMit"
      },
      "source": [
        "# Operações Aritméticas\n",
        "\n",
        "`x + y`\tSoma de X e Y\n",
        "\n",
        "`x - y`\tSubtração de X e Y\n",
        "\n",
        "`-x`\tSinal alterado de X\n",
        "\n",
        "`+x`\tIdentidade de X\n",
        "\n",
        "`x * y`\tMultiplicação de X e Y\n",
        "\n",
        "`x / y`\tDivisão de X e Y\n",
        "\n",
        "`x // y`\tDivisão de X e Y com resultado em inteiro\n",
        "\n",
        "`x % y`\tResto da divisão de X / Y\n",
        "\n",
        "`x ** y`\tX elevado a Y"
      ]
    },
    {
      "cell_type": "code",
      "metadata": {
        "id": "22HRvNH8YbN4"
      },
      "source": [
        ""
      ],
      "execution_count": null,
      "outputs": []
    },
    {
      "cell_type": "markdown",
      "metadata": {
        "id": "PbswAVPDQWGU"
      },
      "source": [
        "#Operações Aritméticas Unárias\n",
        "\n",
        "Uma expressão matemática unária consiste em apenas um componente ou elemento e, em Python, os sinais de mais e menos podem ser usados ​​como um único elemento emparelhado com um valor para retornar a identidade do valor (`+`) ou alterar o sinal do valor (`-`)."
      ]
    },
    {
      "cell_type": "code",
      "metadata": {
        "id": "V_k9cZFmRE5D"
      },
      "source": [
        ""
      ],
      "execution_count": null,
      "outputs": []
    },
    {
      "cell_type": "code",
      "metadata": {
        "id": "A4LmTWTFRO--"
      },
      "source": [
        ""
      ],
      "execution_count": null,
      "outputs": []
    },
    {
      "cell_type": "markdown",
      "metadata": {
        "id": "N5isIh00MSET"
      },
      "source": [
        "A ordem da operação aritmética importa!"
      ]
    },
    {
      "cell_type": "code",
      "metadata": {
        "id": "sukjPYA-aIJ2"
      },
      "source": [
        ""
      ],
      "execution_count": null,
      "outputs": []
    },
    {
      "cell_type": "code",
      "metadata": {
        "id": "9VzHixciaWmH"
      },
      "source": [
        ""
      ],
      "execution_count": null,
      "outputs": []
    },
    {
      "cell_type": "code",
      "metadata": {
        "id": "Wz47pP7DMqNA"
      },
      "source": [
        ""
      ],
      "execution_count": null,
      "outputs": []
    },
    {
      "cell_type": "code",
      "metadata": {
        "id": "qlxTpJG9mDpw"
      },
      "source": [
        ""
      ],
      "execution_count": null,
      "outputs": []
    },
    {
      "cell_type": "code",
      "metadata": {
        "id": "Qime-C8AmFUY"
      },
      "source": [
        ""
      ],
      "execution_count": null,
      "outputs": []
    },
    {
      "cell_type": "code",
      "metadata": {
        "id": "yKZ8c78CmGcB"
      },
      "source": [
        ""
      ],
      "execution_count": null,
      "outputs": []
    },
    {
      "cell_type": "markdown",
      "metadata": {
        "id": "Ohy7mWPJRWbJ"
      },
      "source": [
        "##Operadores de atribuição\n",
        "\n",
        "\n",
        "* `+=` - - adiciona e atribui o valor\n",
        "* `-=` - - subtrai e atribui o valor\n",
        "* `*=` - - multiplica e atribui o valor\n",
        "* `/=` - - divide e atribui o valor\n",
        "* `//=` - - divide e depois atribuir o valor em inteiro\n",
        "* `**=` - - aumentar a potência e então atribuir o valor\n",
        "* `%=` - - retorna o resto da divisão e depois atribui o valor\n",
        "\n"
      ]
    },
    {
      "cell_type": "code",
      "metadata": {
        "id": "wASxPioUTGTA"
      },
      "source": [
        ""
      ],
      "execution_count": null,
      "outputs": []
    },
    {
      "cell_type": "markdown",
      "metadata": {
        "id": "ALgn8jEOXI8m"
      },
      "source": [
        "# Exercícios\n",
        "\n",
        "1. Faça um Programa que mostre a mensagem \"Alo mundo\" na tela"
      ]
    },
    {
      "cell_type": "code",
      "metadata": {
        "id": "E-tm-Ac-dkKI",
        "colab": {
          "base_uri": "https://localhost:8080/"
        },
        "outputId": "53e47938-e437-4ccd-92ee-c36acff417b2"
      },
      "source": [
        "print(\"Hello, world!\")"
      ],
      "execution_count": 9,
      "outputs": [
        {
          "output_type": "stream",
          "name": "stdout",
          "text": [
            "Hello, world!\n"
          ]
        }
      ]
    },
    {
      "cell_type": "markdown",
      "metadata": {
        "id": "H9Xmh3n0dku7"
      },
      "source": [
        "\n",
        "2. Faça um Programa que peça um número e então mostre a mensagem `O número informado foi [número]`."
      ]
    },
    {
      "cell_type": "code",
      "metadata": {
        "id": "oJxXXoQMePMm",
        "colab": {
          "base_uri": "https://localhost:8080/"
        },
        "outputId": "5b36e046-7116-4512-889a-ea698e5e2741"
      },
      "source": [
        "numero = input(\"Digite um número: \")\n",
        "print(numero)"
      ],
      "execution_count": 10,
      "outputs": [
        {
          "output_type": "stream",
          "name": "stdout",
          "text": [
            "Digite um número: 29\n",
            "29\n"
          ]
        }
      ]
    },
    {
      "cell_type": "markdown",
      "metadata": {
        "id": "Mc8ww-KEdndf"
      },
      "source": [
        "\n",
        "3. Faça um Programa que peça dois números e imprima a soma."
      ]
    },
    {
      "cell_type": "code",
      "metadata": {
        "id": "SfwZe2zseO3m",
        "colab": {
          "base_uri": "https://localhost:8080/"
        },
        "outputId": "be0e6a49-7dc3-44c9-ea1b-a5c465d88a52"
      },
      "source": [
        "num1 = int(input(\"Digite o número 01: \"))\n",
        "num2 = int(input(\"Digite o número 02: \"))\n",
        "print(\"A soma é, \", num1+num2 )"
      ],
      "execution_count": 12,
      "outputs": [
        {
          "output_type": "stream",
          "name": "stdout",
          "text": [
            "Digite o número 01: 3\n",
            "Digite o número 02: 4\n",
            "A soma é,  7\n"
          ]
        }
      ]
    },
    {
      "cell_type": "markdown",
      "metadata": {
        "id": "MfVY2KazdpxA"
      },
      "source": [
        "\n",
        "4. Faça um Programa que peça as 4 notas bimestrais e mostre a média."
      ]
    },
    {
      "cell_type": "code",
      "metadata": {
        "id": "B5dg4jyLeOV9",
        "colab": {
          "base_uri": "https://localhost:8080/"
        },
        "outputId": "9361c09c-162f-4e0e-a8e4-84c71fb535af"
      },
      "source": [
        "nota = int(input(\"Digite a nota do 1º Bimestre: \"))\n",
        "nota += int(input(\"Digite a nota do 2º Bimestre: \"))\n",
        "nota += int(input(\"Digite a nota do 3º Bimestre: \"))\n",
        "nota += int(input(\"Digite a nota do 4º Bimestre: \"))\n",
        "print(\"A média dos bimestres foi: \", nota/4)"
      ],
      "execution_count": 45,
      "outputs": [
        {
          "output_type": "stream",
          "name": "stdout",
          "text": [
            "Digite a nota do 1º Bimestre: 5\n",
            "Digite a nota do 2º Bimestre: 6\n",
            "Digite a nota do 3º Bimestre: 3\n",
            "Digite a nota do 4º Bimestre: 2\n",
            "A média dos bimestres foi:  4.0\n"
          ]
        }
      ]
    },
    {
      "cell_type": "markdown",
      "metadata": {
        "id": "GYPjRaE1dsEo"
      },
      "source": [
        "\n",
        "5. Faça um Programa que converta metros para centímetros."
      ]
    },
    {
      "cell_type": "code",
      "metadata": {
        "id": "bDTpB4hxeOAS",
        "colab": {
          "base_uri": "https://localhost:8080/"
        },
        "outputId": "6c167b2c-a26e-424f-a457-2fd681ffb2af"
      },
      "source": [
        "metro = float(input(\"Digite o valor em metro para converter em centimetro: \"))\n",
        "print(metro, \"em metro é igual a\", metro*100, \"em centrimetro\")"
      ],
      "execution_count": 47,
      "outputs": [
        {
          "output_type": "stream",
          "name": "stdout",
          "text": [
            "Digite o valor em metro para converter em centimetro: 0.65\n",
            "0.65 em metro é igual a 65.0 em centrimetro\n"
          ]
        }
      ]
    },
    {
      "cell_type": "markdown",
      "metadata": {
        "id": "Iw_6PGlvdt2P"
      },
      "source": [
        "\n",
        "6. Faça um Programa que peça o raio de um círculo, calcule e mostre sua área."
      ]
    },
    {
      "cell_type": "code",
      "metadata": {
        "id": "QBB456-ceNox",
        "colab": {
          "base_uri": "https://localhost:8080/"
        },
        "outputId": "82cd0d9d-46d5-41c1-d5de-9e04c99e39b6"
      },
      "source": [
        "import math\n",
        "raio = float(input(\"Digite o raio do circulo: \"))\n",
        "print(\"A área do circulo é: \", math.pi * (raio**2))"
      ],
      "execution_count": 48,
      "outputs": [
        {
          "output_type": "stream",
          "name": "stdout",
          "text": [
            "Digite o raio do circulo: 4\n",
            "A área do circulo é:  50.26548245743669\n"
          ]
        }
      ]
    },
    {
      "cell_type": "markdown",
      "metadata": {
        "id": "6WX2yHw8dvgh"
      },
      "source": [
        "\n",
        "7. Faça um Programa que calcule a área de um quadrado, em seguida mostre o dobro desta área para o usuário."
      ]
    },
    {
      "cell_type": "code",
      "metadata": {
        "id": "bq1uTrxieNIi",
        "colab": {
          "base_uri": "https://localhost:8080/"
        },
        "outputId": "11685574-0a94-438a-85d7-3542413bec0d"
      },
      "source": [
        "l1 = float(input(\"Digite a lado1 do quadrado:\"))\n",
        "l2 = float(input(\"Digite a lado2 do quadrado:\"))\n",
        "print(\"O dobro da área do quadrado é\", (l1*l2)*2)"
      ],
      "execution_count": 49,
      "outputs": [
        {
          "output_type": "stream",
          "name": "stdout",
          "text": [
            "Digite a lado1 do quadrado:3\n",
            "Digite a lado2 do quadrado:4\n",
            "O dobro da área do quadrado é 24.0\n"
          ]
        }
      ]
    },
    {
      "cell_type": "markdown",
      "metadata": {
        "id": "OHtr_FwmdxNL"
      },
      "source": [
        "\n",
        "8. Faça um Programa que pergunte quanto você ganha por hora e o número de horas trabalhadas no mês. Calcule e mostre o total do seu salário no referido mês."
      ]
    },
    {
      "cell_type": "code",
      "metadata": {
        "id": "r8eK89x0eMzi",
        "colab": {
          "base_uri": "https://localhost:8080/"
        },
        "outputId": "2d38b735-cc3e-4e97-824e-d03047fc0c19"
      },
      "source": [
        "valorHora = float(input(\"Digite o valor da hora: \"))\n",
        "totalHora = float(input(\"Digite a quantidade horas trabalhada: \"))\n",
        "print(\"Voce recebe\", valorHora*totalHora,\"por mes\")"
      ],
      "execution_count": 50,
      "outputs": [
        {
          "output_type": "stream",
          "name": "stdout",
          "text": [
            "Digite o valor da hora:12\n",
            "Digite a quantidade horas trabalhada:160\n",
            "Voce recebe 1920.0 por mes\n"
          ]
        }
      ]
    },
    {
      "cell_type": "markdown",
      "metadata": {
        "id": "OTc5-XqodzSn"
      },
      "source": [
        "\n",
        "9. Faça um Programa que peça a temperatura em graus Fahrenheit, transforme e mostre a temperatura em graus Celsius.\n",
        "$ °C = 5 \\times ((°F-32) / 9) $"
      ]
    },
    {
      "cell_type": "code",
      "metadata": {
        "id": "bfkUM9cceMbv",
        "colab": {
          "base_uri": "https://localhost:8080/"
        },
        "outputId": "b02ae00a-c952-4f29-fa63-dfb5de268131"
      },
      "source": [
        "f = float(input(\"Digite o valor em Fahrenheit: \"))\n",
        "print(\"A temperatura digitada em Celsius é:\",5 * (f - 32)/9)"
      ],
      "execution_count": 51,
      "outputs": [
        {
          "output_type": "stream",
          "name": "stdout",
          "text": [
            "Digite o valor em Fahrenheit: 50\n",
            "A temperatura digitada em Celsius é: 10.0\n"
          ]
        }
      ]
    },
    {
      "cell_type": "markdown",
      "metadata": {
        "id": "E17ya82wd1rv"
      },
      "source": [
        "10. Faça um programa que peça a temperatura em graus Celsius, transforme e mostre em graus Fahrenheit.\n",
        "\n",
        "$°F = (°C \\times 9 / 5) + 32 $"
      ]
    },
    {
      "cell_type": "code",
      "metadata": {
        "id": "5f6H4KPoeMBf",
        "colab": {
          "base_uri": "https://localhost:8080/"
        },
        "outputId": "98248c56-2d46-43de-8fde-b8350571c9e9"
      },
      "source": [
        "c = float(input(\"Digite o valor em Celsius: \"))\n",
        "print(\"A temperatura digitada em Fahrenheit é:\", c * (9/5) + 32)"
      ],
      "execution_count": 52,
      "outputs": [
        {
          "output_type": "stream",
          "name": "stdout",
          "text": [
            "Digite o valor em Celsius: 50\n",
            "A temperatura digitada em Fahrenheit é: 122.0\n"
          ]
        }
      ]
    },
    {
      "cell_type": "markdown",
      "metadata": {
        "id": "gfkqRT1hd5Uq"
      },
      "source": [
        "\n",
        "11. Faça um Programa que peça 2 números inteiros e um número real. Calcule e mostre:\n",
        "    - o produto do dobro do primeiro com metade do segundo.\n",
        "    - soma do triplo do primeiro com o terceiro.\n",
        "    - terceiro elevado ao cubo."
      ]
    },
    {
      "cell_type": "code",
      "metadata": {
        "id": "U0LGrxCYeLbT",
        "colab": {
          "base_uri": "https://localhost:8080/"
        },
        "outputId": "00cd4470-7621-431c-ec81-c23f09548547"
      },
      "source": [
        "int1 = int(input(\"Digite um número inteiro: \"))\n",
        "int2 = int(input(\"Digite um número inteiro: \"))\n",
        "float1 = float(input(\"Digite um número inteiro: \"))\n",
        "\n",
        "print(\"### o produto do dobro do primeiro com metade do segundo. ###\")\n",
        "print(int1 * (int2 / 2))\n",
        "print(\"*** soma do triplo do primeiro com o terceiro. ***\")\n",
        "print((int1 * 3) + float1)\n",
        "print(\"$$$ terceiro elevado ao cubo. $$$\")\n",
        "print(float1 ** 3)"
      ],
      "execution_count": 53,
      "outputs": [
        {
          "output_type": "stream",
          "name": "stdout",
          "text": [
            "Digite um número inteiro: 10\n",
            "Digite um número inteiro: 20\n",
            "Digite um número inteiro: 3\n",
            "### o produto do dobro do primeiro com metade do segundo. ###\n",
            "100.0\n",
            "*** soma do triplo do primeiro com o terceiro. ***\n",
            "33.0\n",
            "$$$ terceiro elevado ao cubo. $$$\n",
            "27.0\n"
          ]
        }
      ]
    },
    {
      "cell_type": "markdown",
      "metadata": {
        "id": "GeccMwZid7LV"
      },
      "source": [
        "\n",
        "12. Tendo como dados de entrada a altura de uma pessoa, construa um algoritmo que calcule seu peso ideal, usando a seguinte fórmula:\n",
        "\n",
        "$ peso\\_ideal = (72.7 \\times altura) - 58 $"
      ]
    },
    {
      "cell_type": "code",
      "metadata": {
        "id": "KG7NZMI4eK-R",
        "colab": {
          "base_uri": "https://localhost:8080/"
        },
        "outputId": "0e833e81-63ae-45cf-86a6-3e3f660a28e3"
      },
      "source": [
        "altura = float(input(\"Digite a altura da pessoa: \"))\n",
        "print((72.7 * altura) - 58)"
      ],
      "execution_count": 55,
      "outputs": [
        {
          "output_type": "stream",
          "name": "stdout",
          "text": [
            "Digite a altura da pessoa: 1.74\n",
            "68.498\n"
          ]
        }
      ]
    },
    {
      "cell_type": "markdown",
      "metadata": {
        "id": "TGfnvz6rd9Q3"
      },
      "source": [
        "13. Tendo como dado de entrada a altura ($h$) de uma pessoa, construa um algoritmo que calcule seu peso ideal, utilizando as seguintes fórmulas:\n",
        "- Para homens: $ (72.7 \\times h) - 58 $\n",
        "- Para mulheres: $ (62.1 \\times h) - 44.7 $"
      ]
    },
    {
      "cell_type": "code",
      "metadata": {
        "id": "OmLkbOULeKjQ",
        "colab": {
          "base_uri": "https://localhost:8080/"
        },
        "outputId": "ca1f93b2-21bb-4b50-f780-5e50eb18400d"
      },
      "source": [
        "altura = float(input(\"Digite a altura: \"))\n",
        "sexo = input(\"Digite o sexo [M - Masculino | F - Feminino]\")\n",
        "\n",
        "if(sexo == 'm' or sexo == 'M'):\n",
        "  print((72.7 * altura) - 58)\n",
        "if(sexo == 'f' or sexo == 'F'):\n",
        "  print((62.1 * altura) - 44.7)"
      ],
      "execution_count": 56,
      "outputs": [
        {
          "output_type": "stream",
          "name": "stdout",
          "text": [
            "Digite a altura: 1.74\n",
            "Digite o sexo [M - Masculino | F - Feminino]m\n",
            "68.498\n"
          ]
        }
      ]
    },
    {
      "cell_type": "markdown",
      "metadata": {
        "id": "rUcxxTf6d_4G"
      },
      "source": [
        "\n",
        "14. João Papo-de-Pescador, homem de bem, comprou um microcomputador para controlar o rendimento diário de seu trabalho. Toda vez que ele traz um peso de peixes maior que o estabelecido pelo regulamento de pesca do estado de São Paulo (50 quilos) deve pagar uma multa de R\\$ 4,00 por quilo excedente. João precisa que você faça um programa que leia a variável peso (peso de peixes) e calcule o excesso. Gravar na variável excesso a quantidade de quilos além do limite e na variável multa o valor da multa que João deverá pagar. Imprima os dados do programa com as mensagens adequadas."
      ]
    },
    {
      "cell_type": "code",
      "metadata": {
        "id": "LacOhDYmeKAW",
        "colab": {
          "base_uri": "https://localhost:8080/"
        },
        "outputId": "f50cd1e3-ec4a-4c8b-ed12-ee5b47e85f55"
      },
      "source": [
        "TOTAL_PESO_PERMITIDO = 50\n",
        "VALOR_MULTA = 4\n",
        "excesso = 0\n",
        "peso = float(input(\"Digite o valor total do pesacado: \"))\n",
        "if(peso > 50):\n",
        "  excesso = peso - 50\n",
        "  print(\"O peso total do pescado foi: \", peso)\n",
        "  print(\"O total do peso em excesso foi: \", excesso)\n",
        "  print(\"A multa foi de: \", excesso * VALOR_MULTA)\n",
        "else:\n",
        "    print(\"O peso total do pescado foi: \", peso)\n",
        "    print(\"Não houve multa\")"
      ],
      "execution_count": 59,
      "outputs": [
        {
          "output_type": "stream",
          "name": "stdout",
          "text": [
            "Digite o valor total do pesacado: 49\n",
            "O peso total do pescado foi:  49.0\n",
            "Não houve multa\n"
          ]
        }
      ]
    },
    {
      "cell_type": "markdown",
      "metadata": {
        "id": "XH9X194beCpW"
      },
      "source": [
        "\n",
        "15. Faça um Programa que pergunte quanto você ganha por hora e o número de horas trabalhadas no mês. Calcule e mostre o total do seu salário no referido mês, sabendo-se que são descontados 11% para o Imposto de Renda, 8% para o INSS e 5% para o sindicato, faça um programa que nos dê:\n",
        "    - salário bruto.\n",
        "    - quanto pagou ao INSS.\n",
        "    - quanto pagou ao sindicato.\n",
        "    - o salário líquido.\n",
        "    - calcule os descontos e o salário líquido, conforme a tabela abaixo:\n",
        "\n",
        "```\n",
        "            + Salário Bruto : R$\n",
        "            - IR (11%) : R$\n",
        "            - INSS (8%) : R$\n",
        "            - Sindicato ( 5%) : R$\n",
        "            = Salário Liquido : R$\n",
        "```\n",
        "> Obs.: Salário Bruto - Descontos = Salário Líquido.\n"
      ]
    },
    {
      "cell_type": "code",
      "metadata": {
        "id": "bTjIis6yeJDi",
        "colab": {
          "base_uri": "https://localhost:8080/"
        },
        "outputId": "6b948c77-57a0-4f98-8231-58dfcefe41d0"
      },
      "source": [
        "valorHora = float(input(\"Digite o valor da hora: \"))\n",
        "horasMes = float(input(\"Digite quantidade de horas trabalhada/mes\"))\n",
        "salario = valorHora * horasMes\n",
        "print(\"+ Salario bruto: R$\", salario)\n",
        "print(\"- IR (11%) : R$ \", salario*0.11)\n",
        "print(\"- INSS (8%) : R$ \", salario*0.08)\n",
        "print(\"- Sindicato (5%): R$ \", salario*0.05)\n",
        "print(\"= Salário Liquido: R$ \", salario*0.76)\n"
      ],
      "execution_count": 60,
      "outputs": [
        {
          "output_type": "stream",
          "name": "stdout",
          "text": [
            "Digite o valor da hora: 13\n",
            "Digite quantidade de horas trabalhada/mes160\n",
            "+ Salario bruto: R$ 2080.0\n",
            "- IR (11%) : R$  228.8\n",
            "- INSS (8%) : R$  166.4\n",
            "- Sindicato (5%): R$  104.0\n",
            "= Salário Liquido: R$  1580.8\n"
          ]
        }
      ]
    },
    {
      "cell_type": "markdown",
      "metadata": {
        "id": "dQgoUp4FeEjs"
      },
      "source": [
        "\n",
        "16. Faça um programa para uma loja de tintas. O programa deverá pedir o tamanho em metros quadrados da área a ser pintada. Considere que a cobertura da tinta é de 1 litro para cada 3 metros quadrados e que a tinta é vendida em latas de 18 litros, que custam R\\$ 80,00. Informe ao usuário a quantidades de latas de tinta a serem compradas e o preço total. Obs.: somente são vendidos um número inteiro de latas."
      ]
    },
    {
      "cell_type": "code",
      "metadata": {
        "id": "BLgRrbqteIiY",
        "colab": {
          "base_uri": "https://localhost:8080/"
        },
        "outputId": "ea3f00de-aee9-4917-e21e-f1d445f78027"
      },
      "source": [
        "areaPintura = int(input(\"Digite área total a ser pintada: \"))\n",
        "cobertura = (areaPintura/3)//18\n",
        "print(\"Voce terá que comprar \", cobertura)\n",
        "print(\"O valor total das tintas será \", cobertura*80)"
      ],
      "execution_count": 65,
      "outputs": [
        {
          "output_type": "stream",
          "name": "stdout",
          "text": [
            "Digite área total a ser pintada: 54\n",
            "Voce terá que comprar  1.0\n",
            "O valor total das tintas será  80.0\n"
          ]
        }
      ]
    },
    {
      "cell_type": "markdown",
      "metadata": {
        "id": "aDlscibneF_-"
      },
      "source": [
        "\n",
        "17. Faça um Programa para uma loja de tintas. O programa deverá pedir o tamanho em metros quadrados da área a ser pintada. Considere que a cobertura da tinta é de 1 litro para cada 6 metros quadrados e que a tinta é vendida em latas de 18 litros, que custam R\\$ 80,00 ou em galões de 3,6 litros, que custam R\\$ 25,00.\n",
        "  - Informe ao usuário as quantidades de tinta a serem compradas e os respectivos preços em 3 situações:\n",
        "  - comprar apenas latas de 18 litros;\n",
        "  - comprar apenas galões de 3,6 litros;\n",
        "  - misturar latas e galões, de forma que o desperdício de tinta seja menor. Acrescente 10% de folga e sempre arredonde os valores para cima, isto é, considere latas cheias."
      ]
    },
    {
      "cell_type": "code",
      "metadata": {
        "id": "wH56ThFaeIOx"
      },
      "source": [
        ""
      ],
      "execution_count": null,
      "outputs": []
    },
    {
      "cell_type": "markdown",
      "metadata": {
        "id": "nsH6ogQWeHGf"
      },
      "source": [
        "\n",
        "18. Faça um programa que peça o tamanho de um arquivo para download (em MB) e a velocidade de um link de Internet (em Mbps), calcule e informe o tempo aproximado de download do arquivo usando este link (em minutos)."
      ]
    },
    {
      "cell_type": "code",
      "metadata": {
        "id": "KfQCgryMeHsf"
      },
      "source": [
        ""
      ],
      "execution_count": null,
      "outputs": []
    }
  ]
}