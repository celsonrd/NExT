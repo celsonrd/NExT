{
  "nbformat": 4,
  "nbformat_minor": 0,
  "metadata": {
    "colab": {
      "name": "Aula 02 - Operadores Lógicos e Estrutura Condicional.ipynb",
      "provenance": [],
      "collapsed_sections": [],
      "include_colab_link": true
    },
    "kernelspec": {
      "name": "python3",
      "display_name": "Python 3"
    }
  },
  "cells": [
    {
      "cell_type": "markdown",
      "metadata": {
        "id": "view-in-github",
        "colab_type": "text"
      },
      "source": [
        "<a href=\"https://colab.research.google.com/github/celsonrd/NExT/blob/main/Aula_02_Operadores_L%C3%B3gicos_e_Estrutura_Condicional.ipynb\" target=\"_parent\"><img src=\"https://colab.research.google.com/assets/colab-badge.svg\" alt=\"Open In Colab\"/></a>"
      ]
    },
    {
      "cell_type": "markdown",
      "metadata": {
        "id": "9ujEVvoCTM6p"
      },
      "source": [
        "<img src=\"https://www.cesar.school/wp-content/uploads/2019/09/marca_cesar_school.png\" alt=\"drawing\" width=\"200\"/>\n",
        "\n",
        "# Python - **Aula 02**\n",
        "\n",
        "---\n",
        "\n",
        "- Entender conceitos básicos sobre programação;\n",
        "- Conhecer a linguagem Python;\n",
        "- Criar seu primeiro programa em Python;\n"
      ]
    },
    {
      "cell_type": "markdown",
      "metadata": {
        "id": "zAWgCzEXyWGU"
      },
      "source": [
        "# Operadores Lógicos"
      ]
    },
    {
      "cell_type": "markdown",
      "metadata": {
        "id": "rzDS1hUgwxsN"
      },
      "source": [
        "## Operadores Relacionais\n",
        "\n",
        "Uma condição é o estabelecimento de uma relação lógica entre dois elementos. Para definir uma relação lógica é necessário usar operadores relacionais. Uma relação lógica (comparação) retorna somente os valores verdadeiro ou falso.\n",
        "\n",
        "* Igual a: `x == y`\n",
        "* Maior que: `x > y`\n",
        "* Menor que: `x < y`\n",
        "* Maior ou igual a: `x >= y`\n",
        "* Menor ou igual a: `x <= y`\n",
        "* Diferente de: `x != y`\n",
        "\n",
        "> Sobre uso de operadores relacionais com strings [aqui](https://careerkarma.com/blog/python-compare-strings/#:~:text=Python%20comparison%20operators%20can%20be,equal%20to%20(%20>%3D%20).)."
      ]
    },
    {
      "cell_type": "code",
      "metadata": {
        "id": "LrgPw5AZWYBY"
      },
      "source": [
        ""
      ],
      "execution_count": null,
      "outputs": []
    },
    {
      "cell_type": "code",
      "source": [
        ""
      ],
      "metadata": {
        "id": "DIPqlxvuatBI"
      },
      "execution_count": null,
      "outputs": []
    },
    {
      "cell_type": "markdown",
      "source": [
        "## Operadores de Identidade\n",
        "\n",
        "Semelhante aos operadores relacionais, são semânticamente mais legiveis e podem ser usados para comparar ou diferenciar, dois objetos:\n",
        "\n",
        "- `is`\n",
        "- `is not`\n",
        "\n",
        "A diferencia primordial do uso dos operadores de identidade para os operadores relacionais é que os primeiros avaliam também o tipo dos dados (e a referência):\n",
        "\n",
        "```python\n",
        "print(10.0 == 10) # True\n",
        "print(10.0 is 10) # False\n",
        "```\n",
        "\n",
        "Mais detalhes sobre a diferença entre o `==` e o `is` [aqui](https://towardsdatascience.com/whats-the-difference-between-is-and-in-python-dc26406c85ad).\n",
        "\n",
        "> Obs.: Na ordem de precedência, os operadores relacionais ficam a frente"
      ],
      "metadata": {
        "id": "WAU80RnDaPSB"
      }
    },
    {
      "cell_type": "code",
      "source": [
        ""
      ],
      "metadata": {
        "id": "7hIq7sJBaR4_"
      },
      "execution_count": null,
      "outputs": []
    },
    {
      "cell_type": "markdown",
      "metadata": {
        "id": "AkKDg0Lxw3c4"
      },
      "source": [
        "## Operadores Lógicos\n",
        "São utilizados para uma mesma tomada de decisão que necessite de mais de uma condição. Também são conhecidos como operadores booleanos. Operadores lógicos retornam somente os valores verdadeiro ou falso.\n",
        "\n",
        "| Operador Lógico | Função    | Prioridade |\n",
        "|-----------------|-----------|---------------------|\n",
        "| `NOT`           | Negação   | 1                   |\n",
        "| `AND`           | Conjunção | 2                   |\n",
        "| `OR`            | Disjunção | 3                   |"
      ]
    },
    {
      "cell_type": "code",
      "metadata": {
        "id": "DRUv3H5AsF8V",
        "colab": {
          "base_uri": "https://localhost:8080/"
        },
        "outputId": "08b4d085-0983-4072-e716-79fb9bd2daab"
      },
      "source": [
        ""
      ],
      "execution_count": null,
      "outputs": [
        {
          "output_type": "stream",
          "text": [
            "False\n",
            "True\n",
            "False\n"
          ],
          "name": "stdout"
        }
      ]
    },
    {
      "cell_type": "code",
      "metadata": {
        "id": "u4NMl4X0w43O"
      },
      "source": [
        "# 1 < 5 < 7\n"
      ],
      "execution_count": null,
      "outputs": []
    },
    {
      "cell_type": "code",
      "metadata": {
        "id": "_QfX5hX0w9do"
      },
      "source": [
        ""
      ],
      "execution_count": null,
      "outputs": []
    },
    {
      "cell_type": "code",
      "metadata": {
        "id": "U4xFIRbipw2g"
      },
      "source": [
        ""
      ],
      "execution_count": null,
      "outputs": []
    },
    {
      "cell_type": "markdown",
      "metadata": {
        "id": "WsXf_ireWQZd"
      },
      "source": [
        "#Estruturas Condicionais\n",
        "\n",
        "Em Python, é possível controlar o fluxo de execução do código usando estruturas condicionais.\n",
        "\n"
      ]
    },
    {
      "cell_type": "markdown",
      "metadata": {
        "id": "zmalBcHrxAkw"
      },
      "source": [
        "## Estrutura Condicional Simples\n",
        "\n",
        "- if\n",
        "\n",
        "```python\n",
        "if condição:\n",
        "  # se for verdade\n",
        "```\n",
        "\n"
      ]
    },
    {
      "cell_type": "code",
      "metadata": {
        "id": "12kCjeeyxEHI"
      },
      "source": [
        ""
      ],
      "execution_count": null,
      "outputs": []
    },
    {
      "cell_type": "markdown",
      "metadata": {
        "id": "4lZ3gYBwxIqw"
      },
      "source": [
        "## Estrutura Condicional Composta\n",
        "\n",
        "- if\n",
        "- elif\n",
        "- else\n",
        "\n",
        "```python\n",
        "if condição:\n",
        "  # se for verdade\n",
        "else:\n",
        "  # se não for verdade\n",
        "```\n",
        "\n",
        "```python\n",
        "if condição:\n",
        "  # se for verdade\n",
        "elif outra_condicao:\n",
        "  # se a outra condição for verdadeira\n",
        "else:\n",
        "  # se não for verdade\n",
        "```"
      ]
    },
    {
      "cell_type": "code",
      "metadata": {
        "id": "8CDRVqpCxL5N"
      },
      "source": [
        ""
      ],
      "execution_count": null,
      "outputs": []
    },
    {
      "cell_type": "code",
      "metadata": {
        "id": "vKb7Mu1SxN8-"
      },
      "source": [
        ""
      ],
      "execution_count": null,
      "outputs": []
    },
    {
      "cell_type": "markdown",
      "metadata": {
        "id": "ONQEKPoD5WRt"
      },
      "source": [
        "## IF inline\n",
        "\n",
        "(caso verdadeiro) if (condição) else (caso falso)"
      ]
    },
    {
      "cell_type": "code",
      "metadata": {
        "id": "KRa8D_vB5l_B"
      },
      "source": [
        ""
      ],
      "execution_count": null,
      "outputs": []
    },
    {
      "cell_type": "markdown",
      "metadata": {
        "id": "L1_5F0TnxazF"
      },
      "source": [
        "# Exercícios\n"
      ]
    },
    {
      "cell_type": "markdown",
      "metadata": {
        "id": "ALgn8jEOXI8m"
      },
      "source": [
        "1. Informe a saída das seguintes expressões:\n",
        "\n",
        "a)\n",
        "```python\n",
        "3 < 8 # True\n",
        "```\n",
        "b)\n",
        "```python\n",
        "a = 12\n",
        "b = a - 10\n",
        "a > b\n",
        "```\n",
        "c)\n",
        "```python\n",
        "16 != 16\n",
        "```\n",
        "d)\n",
        "```python\n",
        "2 < 5 > 10\n",
        "```\n",
        "e)\n",
        "```python\n",
        "3 <= 5 >= 2\n",
        "```"
      ]
    },
    {
      "cell_type": "code",
      "metadata": {
        "id": "h4ye6OPQWmFP"
      },
      "source": [
        ""
      ],
      "execution_count": null,
      "outputs": []
    },
    {
      "cell_type": "markdown",
      "metadata": {
        "id": "38fv7groq1TP"
      },
      "source": [
        "2. Verifique se as igualdades abaixo são verdadeiras:"
      ]
    },
    {
      "cell_type": "markdown",
      "metadata": {
        "id": "NVrRDMptq-XV"
      },
      "source": [
        "**(a)** $2 \\times 2.0 = 4$"
      ]
    },
    {
      "cell_type": "code",
      "metadata": {
        "id": "WUKZ6b78rA7V",
        "colab": {
          "base_uri": "https://localhost:8080/"
        },
        "outputId": "27bb9617-0a2f-41c6-c311-b90dfaad07a1"
      },
      "source": [
        ""
      ],
      "execution_count": null,
      "outputs": [
        {
          "output_type": "execute_result",
          "data": {
            "text/plain": [
              "True"
            ]
          },
          "metadata": {
            "tags": []
          },
          "execution_count": 54
        }
      ]
    },
    {
      "cell_type": "markdown",
      "metadata": {
        "id": "tOJCnahPrD-W"
      },
      "source": [
        "**(b)** $2 \\times 3 = 5$"
      ]
    },
    {
      "cell_type": "code",
      "metadata": {
        "id": "GkMDHX0vrEqZ"
      },
      "source": [
        ""
      ],
      "execution_count": null,
      "outputs": []
    },
    {
      "cell_type": "markdown",
      "metadata": {
        "id": "bmiounPQrE7N"
      },
      "source": [
        "**(c)** $4a + 3 = b$, para $a=3$ e $b=15$ (primeiro declare as variáveis `a` e `b`)"
      ]
    },
    {
      "cell_type": "code",
      "metadata": {
        "id": "gYX4EINtrHR9"
      },
      "source": [
        ""
      ],
      "execution_count": null,
      "outputs": []
    },
    {
      "cell_type": "markdown",
      "metadata": {
        "id": "8cxnTi98vCBA"
      },
      "source": [
        "3. Faça um programa que calcule as raízes de uma equação do segundo grau, na forma `ax² + bx + c`. O programa deverá pedir os valores de a, b e c e fazer as consistências, informando ao usuário nas seguintes situações:\n",
        "\n",
        "a - Se o usuário informar o valor de A igual a zero, a equação não é do segundo grau e o programa não deve pedir os demais valores, sendo encerrado;\n",
        "\n",
        "b - Se o delta calculado for negativo, a equação não possui raizes reais. Informe ao usuário e encerre o programa;\n",
        "\n",
        "c - Se o delta calculado for igual a zero a equação possui apenas uma raiz real; informe-a ao usuário;\n",
        "\n",
        "d - Se o delta for positivo, a equação possui duas raiz reais; informe-as ao usuário;"
      ]
    },
    {
      "cell_type": "code",
      "metadata": {
        "id": "OXnitl8yvPel"
      },
      "source": [
        ""
      ],
      "execution_count": null,
      "outputs": []
    },
    {
      "cell_type": "markdown",
      "metadata": {
        "id": "Hjpnzu9HvQiU"
      },
      "source": [
        "4. Faça um Programa que peça um número correspondente a um determinado ano e em seguida informe se este ano é ou não bissexto."
      ]
    },
    {
      "cell_type": "code",
      "metadata": {
        "id": "Lh2LloRVvTvc"
      },
      "source": [
        ""
      ],
      "execution_count": null,
      "outputs": []
    },
    {
      "cell_type": "markdown",
      "metadata": {
        "id": "XunttGjtvUH0"
      },
      "source": [
        "5. Faça um Programa que peça uma data no formato dd/mm/aaaa e determine se a mesma é uma data válida."
      ]
    },
    {
      "cell_type": "code",
      "metadata": {
        "id": "2UzoTDudvUfr"
      },
      "source": [
        ""
      ],
      "execution_count": null,
      "outputs": []
    },
    {
      "cell_type": "code",
      "metadata": {
        "id": "O46l6xCho6vj"
      },
      "source": [
        ""
      ],
      "execution_count": null,
      "outputs": []
    },
    {
      "cell_type": "code",
      "metadata": {
        "id": "qQMqeeKGqIQ-"
      },
      "source": [
        ""
      ],
      "execution_count": null,
      "outputs": []
    },
    {
      "cell_type": "markdown",
      "metadata": {
        "id": "TgyLzECrvUnP"
      },
      "source": [
        "6. Faça um Programa que leia um número e exiba o dia correspondente da semana. (1-Domingo, 2- Segunda, etc.), se digitar outro valor deve aparecer valor inválido."
      ]
    },
    {
      "cell_type": "code",
      "metadata": {
        "id": "aDvuInTgvifq"
      },
      "source": [
        ""
      ],
      "execution_count": null,
      "outputs": []
    },
    {
      "cell_type": "markdown",
      "metadata": {
        "id": "Si_23BWYxrO5"
      },
      "source": [
        "7. Crie um programa para um circo, no qual dada a idade de uma pessoa, seja indicado o valor do ingresso segundo as regras:\n",
        "\n",
        "a) A entrada para qualquer pessoa com menos de 4 anos ou maior que 60 é gratuita;\n",
        "\n",
        "b) a entrada para qualquer pessoa com idade entre 4 e 18 custa 20 reais;\n",
        "\n",
        "c) a entrada para qualquer pessoa com 18 ou mais custa 30 reais;\n",
        "\n",
        "d) estudantes e professores pagam meia-entrada."
      ]
    },
    {
      "cell_type": "code",
      "metadata": {
        "id": "pNZbzASKxtzV"
      },
      "source": [
        ""
      ],
      "execution_count": null,
      "outputs": []
    },
    {
      "cell_type": "markdown",
      "metadata": {
        "id": "FR7yDSeiqG3C"
      },
      "source": [
        "8. Complete o código na célula abaixo para imprimir uma mensagem informando se um aluno foi aprovado ou reprovado em uma disciplina com base em sua nota final. A nota mínima necessária para aprovação é  5 ."
      ]
    },
    {
      "cell_type": "code",
      "metadata": {
        "id": "SOYR5rb_qJeM"
      },
      "source": [
        ""
      ],
      "execution_count": null,
      "outputs": []
    },
    {
      "cell_type": "markdown",
      "metadata": {
        "id": "Hm-cqUzIqdiM"
      },
      "source": [
        "9. Construa uma pequena **chave dicotômica** para identificar uma determinada planta como membro de um dos principais grupos: *Bryophyta*, *Pteridophyta*, *Gymnospermae* ou *Angiospermae*.\n",
        "A identificação se dá com base na presença (1) ou ausência (0) de três caracteres: **vascularização**, **sementes** e **flores**. \n",
        "Utilize a tabela abaixo como referência."
      ]
    },
    {
      "cell_type": "markdown",
      "metadata": {
        "id": "rb-IaXMLqmwB"
      },
      "source": [
        "| Grupo | Vascularização| Sementes| Flores |\n",
        "|--|--|--|--|\n",
        "| Bryophyta | 0 | 0 | 0 |\n",
        "| Pteridophyta | 1| 0 | 0 |\n",
        "| Gymnospermae | 1 | 1 | 0 |\n",
        "| Angiospermae | 1 | 1 | 1 |\n"
      ]
    },
    {
      "cell_type": "code",
      "metadata": {
        "id": "zoQsaFZjqcxA"
      },
      "source": [
        "# Estas variáveis armazenam a presença (1) ou ausência (0) de cada caractere\n",
        "vasc = 1\n",
        "sem = 0\n",
        "flor = 0\n",
        "\n",
        "# Seu código aqui\n"
      ],
      "execution_count": null,
      "outputs": []
    },
    {
      "cell_type": "code",
      "metadata": {
        "id": "0K5jGtEoVswx"
      },
      "source": [
        "# Estas variáveis armazenam a presença (1) ou ausência (0) de cada caractere\n",
        "vasc = 0\n",
        "sem = 0\n",
        "flor = 0\n",
        "\n",
        "# Seu código aqui\n"
      ],
      "execution_count": null,
      "outputs": []
    },
    {
      "cell_type": "markdown",
      "metadata": {
        "id": "aNI2VzpEsuSo"
      },
      "source": [
        "10. Um posto está vendendo combustíveis com a seguinte tabela de descontos:\n",
        "\n",
        "a. Álcool:\n",
        "\n",
        "    até 20 litros, desconto de 3% por litro\n",
        "    acima de 20 litros, desconto de 5% por litro\n",
        "\n",
        "b. Gasolina:\n",
        "\n",
        "    até 20 litros, desconto de 4% por litro\n",
        "    acima de 20 litros, desconto de 6% por litro\n",
        "\n",
        "Escreva um algoritmo que leia o número de litros vendidos, o tipo de combustível (codificado da seguinte forma: A-álcool, G-gasolina), calcule e imprima o valor a ser pago pelo cliente sabendo-se que o preço do litro da gasolina é 2.50 o preço do litro do álcool é 1,90."
      ]
    },
    {
      "cell_type": "code",
      "metadata": {
        "id": "D3MJKrgxtlzb"
      },
      "source": [
        ""
      ],
      "execution_count": null,
      "outputs": []
    },
    {
      "cell_type": "markdown",
      "metadata": {
        "id": "wpMhfBBetmCa"
      },
      "source": [
        "11. Faça um Programa que leia 2 números e em seguida pergunte ao usuário qual operação ele deseja realizar. O resultado da operação deve ser acompanhado de uma frase que diga se o número é:\n",
        "\n",
        "a. par ou ímpar;\n",
        "\n",
        "b. positivo ou negativo;\n",
        "\n",
        "c. inteiro ou decimal."
      ]
    },
    {
      "cell_type": "code",
      "metadata": {
        "id": "ypcUM1gvtuVY"
      },
      "source": [
        ""
      ],
      "execution_count": null,
      "outputs": []
    }
  ]
}